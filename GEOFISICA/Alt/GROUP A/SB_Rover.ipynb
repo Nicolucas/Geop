{
 "metadata": {
  "name": "SB_Rover"
 },
 "nbformat": 3,
 "nbformat_minor": 0,
 "worksheets": [
  {
   "cells": [
    {
     "cell_type": "heading",
     "level": 6,
     "metadata": {},
     "source": [
      "PARA LOS STATIC BASE"
     ]
    },
    {
     "cell_type": "code",
     "collapsed": false,
     "input": [
      "%pylab inline\n",
      "from numpy import *\n",
      "import numpy as np\n",
      "import os\n",
      "import pandas as pd\n",
      "import urllib2\n",
      "from pandas import DataFrame, read_csv\n",
      "import matplotlib.pyplot as plt\n",
      "os.getcwd()\n"
     ],
     "language": "python",
     "metadata": {},
     "outputs": [
      {
       "output_type": "stream",
       "stream": "stdout",
       "text": [
        "\n",
        "Welcome to pylab, a matplotlib-based Python environment [backend: module://IPython.zmq.pylab.backend_inline].\n",
        "For more information, type 'help(pylab)'.\n"
       ]
      },
      {
       "output_type": "pyout",
       "prompt_number": 1,
       "text": [
        "'/home/nico/Escritorio/GEOFISICA/Alt/GROUP A'"
       ]
      }
     ],
     "prompt_number": 1
    },
    {
     "cell_type": "code",
     "collapsed": false,
     "input": [
      "fileUrl=r'Static_Base.csv'\n",
      "Data = read_csv(fileUrl,names=['data'])"
     ],
     "language": "python",
     "metadata": {},
     "outputs": [],
     "prompt_number": 2
    },
    {
     "cell_type": "markdown",
     "metadata": {},
     "source": [
      "Data['data']; data es el nombre de la lista de datos;\n",
      "si se coloca [num] muestra los datos de la fila [num]....."
     ]
    },
    {
     "cell_type": "markdown",
     "metadata": {},
     "source": [
      "Por otro lado, si luego de colocar [num] se coloca [num][num2], num 2 va a ser el caracter dado"
     ]
    },
    {
     "cell_type": "code",
     "collapsed": false,
     "input": [
      "#print Data['data'][4]\n",
      "#print Data['data'][4][7:]"
     ],
     "language": "python",
     "metadata": {},
     "outputs": [],
     "prompt_number": 3
    },
    {
     "cell_type": "code",
     "collapsed": false,
     "input": [
      "#print Data['data'][5]\n",
      "#print Data['data'][5][:2]\n",
      "#print Data['data'][5][2:4]\n",
      "#print type(int(Data['data'][5][4:6]))"
     ],
     "language": "python",
     "metadata": {},
     "outputs": [],
     "prompt_number": 4
    },
    {
     "cell_type": "markdown",
     "metadata": {},
     "source": [
      "El archivo Static_Base tiene dos columnas; UTC y TMI"
     ]
    },
    {
     "cell_type": "code",
     "collapsed": false,
     "input": [
      "UTC=np.empty(0)\n",
      "TMI=np.empty(0)\n",
      "numdata=Data.index.shape[0]"
     ],
     "language": "python",
     "metadata": {},
     "outputs": [],
     "prompt_number": 5
    },
    {
     "cell_type": "code",
     "collapsed": false,
     "input": [
      "for i in range(numdata):\n",
      "    seg=int(Data['data'][i][:2])*3600+int(Data['data'][i][2:4])*60+int(Data['data'][i][4:6])\n",
      "    anomaly=double(Data['data'][i][7:])\n",
      "    UTC=np.append(UTC,seg)\n",
      "    TMI=np.append(TMI,anomaly)"
     ],
     "language": "python",
     "metadata": {},
     "outputs": [],
     "prompt_number": 6
    },
    {
     "cell_type": "code",
     "collapsed": false,
     "input": [
      "plot(UTC,TMI)\n",
      "xlabel(\"$Tiempo (s)$\")\n",
      "ylabel(\"TMI\")"
     ],
     "language": "python",
     "metadata": {},
     "outputs": [
      {
       "output_type": "pyout",
       "prompt_number": 7,
       "text": [
        "<matplotlib.text.Text at 0xac798ec>"
       ]
      },
      {
       "output_type": "display_data",
       "png": "[encoded data removed]"
      }
     ],
     "prompt_number": 7
    },
    {
     "cell_type": "heading",
     "level": 2,
     "metadata": {},
     "source": [
      "==============================================================="
     ]
    },
    {
     "cell_type": "markdown",
     "metadata": {},
     "source": [
      "LAT\n",
      "LONG\n",
      "Z\n",
      "TMI\n",
      "DIFF\n",
      "UTC\n",
      "LINE\n"
     ]
    },
    {
     "cell_type": "code",
     "collapsed": false,
     "input": [
      "list1=empty(0)#LAT\n",
      "list2=empty(0)#LONG \n",
      "list3=empty(0)#Z\n",
      "list4=empty(0)#TMI\n",
      "list5=empty(0)#DIFF\n",
      "list6=empty(0)#UTC\n",
      "list7=empty(0)#LINE"
     ],
     "language": "python",
     "metadata": {},
     "outputs": [],
     "prompt_number": 8
    },
    {
     "cell_type": "code",
     "collapsed": false,
     "input": [
      "fileUrl2=r'Rover.csv'\n",
      "Data2 = read_csv(fileUrl2,names=['data'],index_col=None)\n",
      "numdata2=Data2.index.shape[0]\n",
      "Data2['data'][0]"
     ],
     "language": "python",
     "metadata": {},
     "outputs": [
      {
       "output_type": "pyout",
       "prompt_number": 15,
       "text": [
        "'1'"
       ]
      }
     ],
     "prompt_number": 15
    },
    {
     "cell_type": "code",
     "collapsed": false,
     "input": [
      "numdata2\n",
      "for i in range(numdata2):\n",
      "    line2=Data2['data'][i]\n",
      "    line=line2+' '\n",
      "    pre=0\n",
      "    pos=-1\n",
      "    \n",
      "    arr_data=empty(0)\n",
      "    \n",
      "    for j in line:\n",
      "        pos =pos +1\n",
      "        if j == ' ':\n",
      "            savedis=Data2['data'][i][pre:pos]\n",
      "            pre=pos+1\n",
      "            arr_data=np.append(arr_data,savedis)\n",
      "    list1=np.append(list1,float(arr_data[0]))#LAT\n",
      "    list2=np.append(list2,float(arr_data[1]))#LONG \n",
      "    list3=np.append(list3,float(arr_data[2]))#Z\n",
      "    list4=np.append(list4,float(arr_data[3]))#TMI\n",
      "    list5=np.append(list5,float(arr_data[4]))#DIFF\n",
      "    list6=np.append(list6,float(arr_data[5]))#UTC\n",
      "    list7=np.append(list7,float(arr_data[6]))#LINE"
     ],
     "language": "python",
     "metadata": {},
     "outputs": [],
     "prompt_number": 32
    },
    {
     "cell_type": "code",
     "collapsed": false,
     "input": [
      "plot(list1)"
     ],
     "language": "python",
     "metadata": {},
     "outputs": [
      {
       "output_type": "pyout",
       "prompt_number": 35,
       "text": [
        "[<matplotlib.lines.Line2D at 0xadd220c>]"
       ]
      },
      {
       "output_type": "display_data",
       "png": "[encoded data removed]"
      }
     ],
     "prompt_number": 35
    },
    {
     "cell_type": "code",
     "collapsed": false,
     "input": [],
     "language": "python",
     "metadata": {},
     "outputs": [],
     "prompt_number": 32
    },
    {
     "cell_type": "code",
     "collapsed": false,
     "input": [],
     "language": "python",
     "metadata": {},
     "outputs": []
    }
   ],
   "metadata": {}
  }
 ]
}